{
 "cells": [
  {
   "cell_type": "markdown",
   "metadata": {},
   "source": [
    "### Natural Language Processing \n",
    "- By Jayapriya Nagarajan and Ravikumar Sulepetkar"
   ]
  },
  {
   "cell_type": "code",
   "execution_count": 3,
   "metadata": {},
   "outputs": [
    {
     "name": "stdout",
     "output_type": "stream",
     "text": [
      ".....200 reviews extracted so far\n",
      ".....400 reviews extracted so far\n",
      ".....600 reviews extracted so far\n",
      ".....800 reviews extracted so far\n",
      ".....1000 reviews extracted so far\n",
      ".....1200 reviews extracted so far\n",
      ".....1400 reviews extracted so far\n",
      ".....1600 reviews extracted so far\n",
      ".....1800 reviews extracted so far\n",
      ".....2000 reviews extracted so far\n",
      ".....2200 reviews extracted so far\n",
      ".....2400 reviews extracted so far\n",
      ".....2600 reviews extracted so far\n",
      ".....2800 reviews extracted so far\n",
      ".....3000 reviews extracted so far\n",
      ".....3200 reviews extracted so far\n",
      ".....3400 reviews extracted so far\n",
      ".....3600 reviews extracted so far\n",
      ".....3800 reviews extracted so far\n",
      ".....4000 reviews extracted so far\n",
      ".....4200 reviews extracted so far\n",
      ".....4400 reviews extracted so far\n",
      ".....4600 reviews extracted so far\n",
      ".....4800 reviews extracted so far\n",
      ".....5000 reviews extracted so far\n",
      ".....5200 reviews extracted so far\n",
      ".....5400 reviews extracted so far\n",
      ".....5600 reviews extracted so far\n",
      ".....5800 reviews extracted so far\n",
      ".....6000 reviews extracted so far\n",
      ".....6200 reviews extracted so far\n",
      ".....6400 reviews extracted so far\n",
      ".....6600 reviews extracted so far\n",
      ".....6800 reviews extracted so far\n",
      ".....7000 reviews extracted so far\n",
      ".....7200 reviews extracted so far\n",
      ".....7400 reviews extracted so far\n",
      ".....7600 reviews extracted so far\n",
      ".....7800 reviews extracted so far\n",
      ".....8000 reviews extracted so far\n",
      ".....8200 reviews extracted so far\n",
      ".....8400 reviews extracted so far\n",
      ".....8600 reviews extracted so far\n",
      ".....8800 reviews extracted so far\n",
      ".....9000 reviews extracted so far\n",
      ".....9200 reviews extracted so far\n",
      ".....9400 reviews extracted so far\n",
      ".....9600 reviews extracted so far\n",
      ".....9800 reviews extracted so far\n",
      ".....10000 reviews extracted so far\n",
      ".....10200 reviews extracted so far\n"
     ]
    }
   ],
   "source": [
    "import pandas as pd\n",
    "import numpy as np\n",
    "import matplotlib.pyplot as plt\n",
    "%matplotlib inline\n",
    "from textblob import TextBlob\n",
    "import nltk\n",
    "from nltk.corpus import stopwords\n",
    "\n",
    "import re\n",
    "\n",
    "allreviews=[]\n",
    "\n",
    "#while(len(allreviews)<100000):\n",
    "for chunk in pd.read_csv('R:/yelp_review_final_5.csv',chunksize=200):\n",
    "    reviewdata = chunk.text\n",
    "    allreviews.extend(reviewdata)\n",
    "    print(\".....%s reviews extracted so far\"%(len(allreviews)))\n",
    "    #print(chunk.text)\n",
    "    #reviewdata = pd.DataFrame(data = chunk.text)\n",
    "    if(len(allreviews)>10000):\n",
    "        break\n",
    "    \n",
    "    \n",
    "  \n",
    "\n",
    "#yelp = pd.read_csv('R:/yelp_review_final_5.csv',sep=',',chunksize=200)\n",
    "\n"
   ]
  },
  {
   "cell_type": "code",
   "execution_count": 4,
   "metadata": {},
   "outputs": [
    {
     "name": "stdout",
     "output_type": "stream",
     "text": [
      "                                              reviews\n",
      "0   Super simple place but amazing nonetheless. It...\n",
      "1   Small unassuming place that changes their menu...\n",
      "2   Lester's is located in a beautiful neighborhoo...\n",
      "3   Love coming here. Yes the place always needs t...\n",
      "4   Had their chocolate almond croissant and it wa...\n",
      "5   Cycle Pub Las Vegas was a blast! Got a groupon...\n",
      "6   Who would have guess that you would be able to...\n",
      "7   Always drove past this coffee house and wonder...\n",
      "8   Not bad!! Love that there is a gluten-free, ve...\n",
      "9   Love this place!\\n\\nPeggy is great with dogs a...\n",
      "10  This is currently my parents new favourite res...\n",
      "11  Server was a little rude.\\n\\nOrdered the calam...\n",
      "12  I thought Tidy's Flowers had a great reputatio...\n",
      "13  Wanted to check out this place due to all the ...\n",
      "14  This place is awesome! Definitely authentic!!!...\n",
      "15  a must stop when you are in montreal!\\n\\nI was...\n",
      "16  I too have been trying to book an appt to use ...\n",
      "17  Came here with my girlfriends one Sunday after...\n",
      "18  Came here for a burger as one of my friends sa...\n",
      "19  really excited to hear of this restaurant comi...\n",
      "20  was always intrigued of this place when I pass...\n",
      "21  This place reminds of St Lawrence Market in To...\n",
      "22  burgers are very big portions here.\\n\\ndefinit...\n",
      "23  Food is very bland - not authentic at all.\\n\\n...\n",
      "24  While looking at different restaurants in the ...\n",
      "25  Service is really slow here. I waited for over...\n",
      "26  a few years ago, this used to be the place to ...\n",
      "27  OMG - Definitely worth going if you are in Mon...\n",
      "28  Not sure what the hype is, but decided to give...\n",
      "29  Love the selection of winter gear here for my ...\n",
      "..                                                ...\n",
      "70  Read about this bakery on BlogTO so decided to...\n",
      "71  very cozy, in the heart of St. Catherine stree...\n",
      "72  Nice addition to the Distillery district! Stum...\n",
      "73  after reading reviews on this place, thought I...\n",
      "74  Cute place in Danforth and Coxwell area!\\n\\nIt...\n",
      "75  You can see that people only eat here to use t...\n",
      "76  my sister is a big fan of the noodles here as ...\n",
      "77  This is a most stop for me and my girlfriend w...\n",
      "78  Saw that this was in my neighbourhood so decid...\n",
      "79  Read an article online about this being the be...\n",
      "80  Really 3.5 stars...\\n\\nWasn't bad sushi. Decen...\n",
      "81  Tried to book an appointment to use the vouche...\n",
      "82  hand made noodles. fast. great service. open k...\n",
      "83  Good, cheap sushi.\\n\\nThe party trays in parti...\n",
      "84  Saw that there was a new place in the neighbor...\n",
      "85  nice and light tasting cakes! Tried an origina...\n",
      "86  Suzanne was able to get my business five T.V. ...\n",
      "87  THEY SELL WRECKED VEHICLES! \\nI purchased a 20...\n",
      "88  We got a permit to have wedding photos taken h...\n",
      "89  No problems at all with this place.  The staff...\n",
      "90  We had Gaylord cater our wedding reception.  T...\n",
      "91  We had these guys cater our wedding.  We ended...\n",
      "92  Visiting from SF.  Checked yelp and found this...\n",
      "93  We always go to the chevo's in chandler which ...\n",
      "94  This place is always so dirty and grimy, been ...\n",
      "95  Horrible customer service!! Warning do not pur...\n",
      "96  I bought a groupon voucher for Double Wings Ar...\n",
      "97  I started going to this nail salon last summer...\n",
      "98  I give up on this place! I have gotten burrito...\n",
      "99  I think I may have been let down by this place...\n",
      "\n",
      "[100 rows x 1 columns]\n"
     ]
    }
   ],
   "source": [
    "reviewdata = pd.DataFrame(data=[review for review in allreviews],columns =['reviews'])\n",
    "\n",
    "print(reviewdata.head(100))"
   ]
  },
  {
   "cell_type": "code",
   "execution_count": 5,
   "metadata": {
    "collapsed": true
   },
   "outputs": [],
   "source": [
    "\n",
    "\n",
    "def clean_review(review):\n",
    "        '''\n",
    "    Utility function to clean the text in a review by removing \n",
    "    links and special characters using regex.    \n",
    "    '''\n",
    "        return ' '.join(re.sub(\"(@[A-Za-z0-9]+)|([^0-9A-Za-z \\t])|(\\w+:\\/\\/\\S+)\", \" \", review).split())"
   ]
  },
  {
   "cell_type": "code",
   "execution_count": 6,
   "metadata": {
    "collapsed": true
   },
   "outputs": [],
   "source": [
    "def analize_sentiment(review):\n",
    "    '''\n",
    "    Utility function to classify the polarity of a tweet\n",
    "    using textblob.\n",
    "    '''\n",
    "    analysis = TextBlob(clean_review(review))\n",
    "    if analysis.sentiment.polarity > 0:\n",
    "        return 1\n",
    "    elif analysis.sentiment.polarity == 0:\n",
    "        return 0\n",
    "    else:\n",
    "        return -1"
   ]
  },
  {
   "cell_type": "code",
   "execution_count": 7,
   "metadata": {
    "collapsed": true
   },
   "outputs": [],
   "source": [
    "reviewdata['Sentiment'] = np.array([ analize_sentiment(review) for review in reviewdata['reviews'] ])"
   ]
  },
  {
   "cell_type": "code",
   "execution_count": 8,
   "metadata": {},
   "outputs": [
    {
     "name": "stdout",
     "output_type": "stream",
     "text": [
      "                                              reviews  Sentiment\n",
      "0   Super simple place but amazing nonetheless. It...          1\n",
      "1   Small unassuming place that changes their menu...          1\n",
      "2   Lester's is located in a beautiful neighborhoo...          1\n",
      "3   Love coming here. Yes the place always needs t...          1\n",
      "4   Had their chocolate almond croissant and it wa...          1\n",
      "5   Cycle Pub Las Vegas was a blast! Got a groupon...          1\n",
      "6   Who would have guess that you would be able to...          1\n",
      "7   Always drove past this coffee house and wonder...          1\n",
      "8   Not bad!! Love that there is a gluten-free, ve...          1\n",
      "9   Love this place!\\n\\nPeggy is great with dogs a...          1\n",
      "10  This is currently my parents new favourite res...          1\n",
      "11  Server was a little rude.\\n\\nOrdered the calam...         -1\n",
      "12  I thought Tidy's Flowers had a great reputatio...          1\n",
      "13  Wanted to check out this place due to all the ...          1\n",
      "14  This place is awesome! Definitely authentic!!!...          1\n",
      "15  a must stop when you are in montreal!\\n\\nI was...          1\n",
      "16  I too have been trying to book an appt to use ...         -1\n",
      "17  Came here with my girlfriends one Sunday after...          1\n",
      "18  Came here for a burger as one of my friends sa...          1\n",
      "19  really excited to hear of this restaurant comi...         -1\n",
      "20  was always intrigued of this place when I pass...          1\n",
      "21  This place reminds of St Lawrence Market in To...          1\n",
      "22  burgers are very big portions here.\\n\\ndefinit...          0\n",
      "23  Food is very bland - not authentic at all.\\n\\n...         -1\n",
      "24  While looking at different restaurants in the ...          1\n",
      "25  Service is really slow here. I waited for over...         -1\n",
      "26  a few years ago, this used to be the place to ...         -1\n",
      "27  OMG - Definitely worth going if you are in Mon...          1\n",
      "28  Not sure what the hype is, but decided to give...          1\n",
      "29  Love the selection of winter gear here for my ...          1\n"
     ]
    }
   ],
   "source": [
    "print(reviewdata.head(30))"
   ]
  },
  {
   "cell_type": "code",
   "execution_count": 9,
   "metadata": {
    "collapsed": true
   },
   "outputs": [],
   "source": [
    "from nltk.corpus import stopwords"
   ]
  },
  {
   "cell_type": "code",
   "execution_count": 10,
   "metadata": {
    "collapsed": true
   },
   "outputs": [],
   "source": [
    "from nltk.classify import SklearnClassifier"
   ]
  },
  {
   "cell_type": "code",
   "execution_count": 11,
   "metadata": {},
   "outputs": [
    {
     "name": "stderr",
     "output_type": "stream",
     "text": [
      "C:\\Users\\ravikumar\\Anaconda3\\lib\\site-packages\\nltk\\twitter\\__init__.py:20: UserWarning: The twython library has not been installed. Some functionality from the twitter package will not be available.\n",
      "  warnings.warn(\"The twython library has not been installed. \"\n"
     ]
    }
   ],
   "source": [
    "from nltk.sentiment.vader import SentimentIntensityAnalyzer "
   ]
  },
  {
   "cell_type": "code",
   "execution_count": 23,
   "metadata": {},
   "outputs": [
    {
     "name": "stdout",
     "output_type": "stream",
     "text": [
      "Sentiment Score:  0.955\n"
     ]
    }
   ],
   "source": [
    "state = \"Food was very good and had an awesome time in saithai restureont\"\n",
    "sentiment = TextBlob(state)\n",
    "print(\"Sentiment Score: \", sentiment.sentiment.polarity)"
   ]
  },
  {
   "cell_type": "code",
   "execution_count": 24,
   "metadata": {},
   "outputs": [
    {
     "name": "stdout",
     "output_type": "stream",
     "text": [
      "Sentiment Score:  -0.4833333333333332\n"
     ]
    }
   ],
   "source": [
    "state = \"food was bad it was cold and not fresh in that cafe\"\n",
    "sentiment = TextBlob(state)\n",
    "print(\"Sentiment Score: \", sentiment.sentiment.polarity)"
   ]
  },
  {
   "cell_type": "code",
   "execution_count": 27,
   "metadata": {
    "collapsed": true
   },
   "outputs": [],
   "source": [
    "from nltk.tokenize import sent_tokenize, word_tokenize"
   ]
  },
  {
   "cell_type": "code",
   "execution_count": 28,
   "metadata": {},
   "outputs": [
    {
     "name": "stdout",
     "output_type": "stream",
     "text": [
      "['All', 'work', 'and', 'no', 'play', 'makes', 'jack', 'dull', 'boy', '.', 'All', 'work', 'and', 'no', 'play', 'makes', 'jack', 'a', 'dull', 'boy', '.']\n"
     ]
    }
   ],
   "source": [
    "data = \"All work and no play makes jack dull boy. All work and no play makes jack a dull boy.\"\n",
    "words = word_tokenize(data)\n",
    "print(words)"
   ]
  },
  {
   "cell_type": "code",
   "execution_count": 31,
   "metadata": {},
   "outputs": [
    {
     "name": "stdout",
     "output_type": "stream",
     "text": [
      "[nltk_data] Downloading package stopwords to\n",
      "[nltk_data]     C:\\Users\\ravikumar\\AppData\\Roaming\\nltk_data...\n",
      "[nltk_data]   Unzipping corpora\\stopwords.zip.\n"
     ]
    },
    {
     "data": {
      "text/plain": [
       "True"
      ]
     },
     "execution_count": 31,
     "metadata": {},
     "output_type": "execute_result"
    }
   ],
   "source": [
    "nltk.download('stopwords')"
   ]
  },
  {
   "cell_type": "code",
   "execution_count": 37,
   "metadata": {},
   "outputs": [
    {
     "name": "stdout",
     "output_type": "stream",
     "text": [
      "['Two', 'vegan', 'burgers', 'better', ',', 'Tim', 'M.Tag', 'vegan', 'friend', 'loves', 'lot', 'good', 'plant-based', 'patty']\n"
     ]
    }
   ],
   "source": [
    "from nltk.tokenize import sent_tokenize, word_tokenize\n",
    "from nltk.corpus import stopwords\n",
    "\n",
    "data = \" Two vegan burgers which are better ourselves, Tim M.Tag  is a vegan friend who loves a lot of good plant-based patty \"\n",
    "stopWords = set(stopwords.words('english'))\n",
    "words = word_tokenize(data)\n",
    "wordsFiltered = []\n",
    " \n",
    "for w in words:\n",
    "    if w not in stopWords:\n",
    "        wordsFiltered.append(w)\n",
    " \n",
    "print(wordsFiltered)"
   ]
  },
  {
   "cell_type": "code",
   "execution_count": null,
   "metadata": {
    "collapsed": true
   },
   "outputs": [],
   "source": []
  }
 ],
 "metadata": {
  "kernelspec": {
   "display_name": "Python 3",
   "language": "python",
   "name": "python3"
  },
  "language_info": {
   "codemirror_mode": {
    "name": "ipython",
    "version": 3
   },
   "file_extension": ".py",
   "mimetype": "text/x-python",
   "name": "python",
   "nbconvert_exporter": "python",
   "pygments_lexer": "ipython3",
   "version": "3.6.2"
  }
 },
 "nbformat": 4,
 "nbformat_minor": 2
}
